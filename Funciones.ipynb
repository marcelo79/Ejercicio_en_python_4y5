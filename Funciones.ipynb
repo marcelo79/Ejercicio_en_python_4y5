{
  "nbformat": 4,
  "nbformat_minor": 0,
  "metadata": {
    "colab": {
      "provenance": []
    },
    "kernelspec": {
      "name": "python3",
      "display_name": "Python 3"
    },
    "language_info": {
      "name": "python"
    }
  },
  "cells": [
    {
      "cell_type": "markdown",
      "source": [
        "Realice un programa que muestre el mensaje “Hola Aula X Indicar el número de aula a la que pertenecen, ¿Qué tal?” en tres veces intercambiados entre ellos otro mensajes a su elección."
      ],
      "metadata": {
        "id": "lozbMDnHQUPo"
      }
    },
    {
      "cell_type": "code",
      "source": [
        "def mostrar_mensaje(aula):\n",
        "    print(\"Hola Aula \" + str(aula) + \", ¿Qué tal?\")\n",
        "\n",
        "# Mostrar mensaje 1\n",
        "mostrar_mensaje(1)\n",
        "\n",
        "# Mostrar otro mensaje\n",
        "print(\"¡Bienvenidos a la clase!\")\n",
        "\n",
        "# Mostrar mensaje 2\n",
        "mostrar_mensaje(2)\n",
        "\n",
        "# Mostrar otro mensaje\n",
        "print(\"Recuerden entregar sus tareas a tiempo\")\n",
        "\n",
        "# Mostrar mensaje 3\n",
        "mostrar_mensaje(3)\n",
        "\n",
        "# Mostrar último mensaje\n",
        "print(\"¡Nos vemos en la próxima clase!\")\n",
        "\n",
        "\n",
        "\n",
        "\n",
        "\n",
        "\n",
        "\n"
      ],
      "metadata": {
        "colab": {
          "base_uri": "https://localhost:8080/"
        },
        "id": "5DLFuPJVTmoS",
        "outputId": "019c20cf-abc7-417a-90de-02c89d872f3c"
      },
      "execution_count": null,
      "outputs": [
        {
          "output_type": "stream",
          "name": "stdout",
          "text": [
            "Hola Aula 1, ¿Qué tal?\n",
            "¡Bienvenidos a la clase!\n",
            "Hola Aula 2, ¿Qué tal?\n",
            "Recuerden entregar sus tareas a tiempo\n",
            "Hola Aula 3, ¿Qué tal?\n",
            "¡Nos vemos en la próxima clase!\n"
          ]
        }
      ]
    },
    {
      "cell_type": "markdown",
      "source": [
        "A partir del siguiente ejemplo “Hola Ana, ¿Qué tal?” realizar el programa la ejecución del mismo con al menos otros dos nombres más, es decir, tres mensajes con tres nombres distintos. Recuerda: en estos ejercicios trabajamos argumentos.\n"
      ],
      "metadata": {
        "id": "z8lsd5i0QkGv"
      }
    },
    {
      "cell_type": "code",
      "execution_count": null,
      "metadata": {
        "colab": {
          "base_uri": "https://localhost:8080/"
        },
        "id": "IuuyoWW8STli",
        "outputId": "8e68a099-d33b-407a-b46b-d9955c53162e"
      },
      "outputs": [
        {
          "output_type": "stream",
          "name": "stdout",
          "text": [
            "Hola Ana, ¿Qué tal?\n",
            "Hola Pedro, ¿Qué tal?\n",
            "Hola María, ¿Qué tal?\n"
          ]
        }
      ],
      "source": [
        "def mostrar_mensaje(nombre):\n",
        "    mensaje = \"Hola \" + nombre + \", ¿Qué tal?\"\n",
        "    print(mensaje)\n",
        "\n",
        "# Mostrar mensaje con nombre \"Ana\"\n",
        "mostrar_mensaje(\"Ana\")\n",
        "\n",
        "# Mostrar mensaje con otro nombre\n",
        "mostrar_mensaje(\"Pedro\")\n",
        "\n",
        "# Mostrar mensaje con otro nombre\n",
        "mostrar_mensaje(\"María\")\n",
        "\n",
        "\n",
        "\n",
        "\n",
        "\n",
        "\n",
        "\n"
      ]
    },
    {
      "cell_type": "markdown",
      "source": [
        "Realizar un programa de funciones que contengan 3 parámetros, el cual derive en una suma. Mostrar el resultado dos veces.\n"
      ],
      "metadata": {
        "id": "6kM0MykcQxrW"
      }
    },
    {
      "cell_type": "code",
      "source": [
        "def sumar(a, b, c):\n",
        "    resultado = a + b + c\n",
        "    return resultado\n",
        "\n",
        "# Llamada a la función y mostrar el resultado\n",
        "resultado = sumar(2, 3, 4)\n",
        "print(\"El resultado es:\", resultado)\n",
        "\n",
        "# Llamada a la función nuevamente y mostrar el resultado\n",
        "otro_resultado = sumar(5, 6, 7)\n",
        "print(\"El resultado es:\", otro_resultado)"
      ],
      "metadata": {
        "colab": {
          "base_uri": "https://localhost:8080/"
        },
        "id": "csnV-m3ATiUJ",
        "outputId": "5ab403d8-13f2-4d6e-9401-729eb37a5665"
      },
      "execution_count": null,
      "outputs": [
        {
          "output_type": "stream",
          "name": "stdout",
          "text": [
            "El resultado es: 9\n",
            "El resultado es: 18\n"
          ]
        }
      ]
    },
    {
      "cell_type": "markdown",
      "source": [
        "Realice un programa que lea dos números (dos parámetros), compare si son IGUALES, en ese caso, mostrar un mensaje que muestre TRUE."
      ],
      "metadata": {
        "id": "pl9BQA4QQ18W"
      }
    },
    {
      "cell_type": "code",
      "source": [
        "def comparar_numeros(num1, num2):\n",
        "    if num1 == num2:\n",
        "        print(\"TRUE\")\n",
        "    else:\n",
        "        print(\"FALSE\")\n",
        "\n",
        "# Leer dos números\n",
        "num1 = int(input(\"Ingrese el primer número: \"))\n",
        "num2 = int(input(\"Ingrese el segundo número: \"))\n",
        "\n",
        "# Llamar a la función para comparar los números\n",
        "comparar_numeros(num1, num2)\n",
        "\n",
        "\n",
        "\n",
        "\n",
        "\n",
        "\n"
      ],
      "metadata": {
        "colab": {
          "base_uri": "https://localhost:8080/"
        },
        "id": "5HhwAK64Tkkg",
        "outputId": "327b4726-e351-428f-f6c1-360f8031600e"
      },
      "execution_count": null,
      "outputs": [
        {
          "output_type": "stream",
          "name": "stdout",
          "text": [
            "Ingrese el primer número: 9\n",
            "Ingrese el segundo número: 9\n",
            "TRUE\n"
          ]
        }
      ]
    },
    {
      "cell_type": "markdown",
      "source": [
        "Realice un programa que contenga una función que se llame “sumayresta”, que la misma contenga dos variables locales nombradas suma y resta, respectivamente. Recuerda: en estos ejercicios trabajamos argumentos para este ejercicio sería dos.\n",
        "\n"
      ],
      "metadata": {
        "id": "SxVbNjSTQ5a3"
      }
    },
    {
      "cell_type": "code",
      "source": [
        "def sumayresta(a, b):\n",
        "    suma = a + b\n",
        "    resta = a - b\n",
        "    print(\"La suma es:\", suma)\n",
        "    print(\"La resta es:\", resta)\n",
        "\n",
        "# Leer dos números\n",
        "num1 = float(input(\"Ingrese el primer número: \"))\n",
        "num2 = float(input(\"Ingrese el segundo número: \"))\n",
        "\n",
        "# Llamar a la función \"sumayresta\" pasando los números como argumentos\n",
        "sumayresta(num1, num2)\n"
      ],
      "metadata": {
        "colab": {
          "base_uri": "https://localhost:8080/"
        },
        "id": "2A2mrtBiVlqo",
        "outputId": "bc2efd79-ccd5-4741-ce09-7fa4c2ca9ffa"
      },
      "execution_count": null,
      "outputs": [
        {
          "output_type": "stream",
          "name": "stdout",
          "text": [
            "Ingrese el primer número: 0\n",
            "Ingrese el segundo número: 0\n",
            "La suma es: 0.0\n",
            "La resta es: 0.0\n"
          ]
        }
      ]
    }
  ]
}