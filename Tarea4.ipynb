{
  "cells": [
    {
      "cell_type": "markdown",
      "metadata": {
        "id": "gC14X8eXs9z7"
      },
      "source": [
        "Realice un programa que lea 4 números y diga cuántos son pares y\n",
        "cuantos impares y devuelva la sumatoria de los pares."
      ]
    },
    {
      "cell_type": "code",
      "execution_count": null,
      "metadata": {
        "colab": {
          "base_uri": "https://localhost:8080/"
        },
        "id": "zAVCKoKJcmaF",
        "outputId": "760fd674-c6e0-4a8c-d817-726330354412"
      },
      "outputs": [
        {
          "name": "stdout",
          "output_type": "stream",
          "text": [
            "Ingrese un número: 8\n",
            "Ingrese un número: 6\n",
            "Ingrese un número: 4\n",
            "Ingrese un número: 9\n",
            "Cantidad de números pares: 3\n",
            "Cantidad de números impares: 1\n",
            "Sumatoria de números pares: 18\n"
          ]
        }
      ],
      "source": [
        "numeros = []\n",
        "cantidad_pares = 0\n",
        "sumatoria_pares = 0\n",
        "\n",
        "for i in range(4):\n",
        "    numero = int(input(\"Ingrese un número: \"))\n",
        "    numeros.append(numero)\n",
        "    if numero % 2 == 0:  # Si el número es divisible por 2, es par\n",
        "        cantidad_pares += 1\n",
        "        sumatoria_pares += numero\n",
        "\n",
        "cantidad_impares = 4 - cantidad_pares  # Calcula la cantidad de impares\n",
        "\n",
        "print(\"Cantidad de números pares:\", cantidad_pares)\n",
        "print(\"Cantidad de números impares:\", cantidad_impares)\n",
        "print(\"Sumatoria de números pares:\", sumatoria_pares)\n"
      ]
    },
    {
      "cell_type": "markdown",
      "metadata": {
        "id": "sGss1yHls8EF"
      },
      "source": [
        "Leer 10 números y obtener la cantidad de mayores y la cantidad de\n",
        "menores a 100, cuál es el número máximo y cuál es el número mínimo."
      ]
    },
    {
      "cell_type": "code",
      "execution_count": null,
      "metadata": {
        "colab": {
          "base_uri": "https://localhost:8080/"
        },
        "id": "6wqg4lh_e2Eg",
        "outputId": "5cb5b699-8ed5-44ba-8e94-73d1c6916390"
      },
      "outputs": [
        {
          "name": "stdout",
          "output_type": "stream",
          "text": [
            "Ingrese un número: 1\n",
            "Ingrese un número: 2\n",
            "Ingrese un número: 33\n",
            "Ingrese un número: 44\n",
            "Ingrese un número: 55\n",
            "Ingrese un número: 62222\n",
            "Ingrese un número: 7777\n",
            "Ingrese un número: 88888888\n",
            "Ingrese un número: 6666\n",
            "Ingrese un número: 66666\n",
            "Cantidad de números mayores a 100: 5\n",
            "Cantidad de números menores a 100: 5\n",
            "Número máximo: 88888888\n",
            "Número mínimo: 1\n"
          ]
        }
      ],
      "source": [
        "cantidad_mayores = 0\n",
        "cantidad_menores = 0\n",
        "numero_maximo = float('-inf')  # Inicializamos el número máximo con un valor pequeño\n",
        "numero_minimo = float('inf')  # Inicializamos el número mínimo con un valor grande\n",
        "\n",
        "for i in range(10):\n",
        "    numero = int(input(\"Ingrese un número: \"))\n",
        "    if numero > 100:\n",
        "        cantidad_mayores += 1\n",
        "    elif numero < 100:\n",
        "        cantidad_menores += 1\n",
        "\n",
        "    if numero > numero_maximo:\n",
        "        numero_maximo = numero\n",
        "\n",
        "    if numero < numero_minimo:\n",
        "        numero_minimo = numero\n",
        "\n",
        "print(\"Cantidad de números mayores a 100:\", cantidad_mayores)\n",
        "print(\"Cantidad de números menores a 100:\", cantidad_menores)\n",
        "print(\"Número máximo:\", numero_maximo)\n",
        "print(\"Número mínimo:\", numero_minimo)\n",
        "\n",
        "\n",
        "\n",
        "\n",
        "\n",
        "\n"
      ]
    },
    {
      "cell_type": "markdown",
      "metadata": {
        "id": "oqCQC_p1s6Gc"
      },
      "source": [
        "Ingresar las edades y el sexo de 15 personas y determinar cuántas son\n",
        "mujeres, cuántos varones, cuántos mayores de edad y cuántos\n",
        "menores de edad."
      ]
    },
    {
      "cell_type": "code",
      "execution_count": null,
      "metadata": {
        "colab": {
          "background_save": true,
          "base_uri": "https://localhost:8080/"
        },
        "id": "TbsX5WVrgWc-",
        "outputId": "6c74689a-e9cc-4f17-ba8c-8dbcd2c3f34d"
      },
      "outputs": [
        {
          "name": "stdout",
          "output_type": "stream",
          "text": [
            "Persona 1\n"
          ]
        }
      ],
      "source": [
        "\n",
        "cantidad_mujeres = 0\n",
        "cantidad_varones = 0\n",
        "cantidad_mayores = 0\n",
        "cantidad_menores = 0\n",
        "\n",
        "for i in range(15):\n",
        "    print(\"Persona\", i+1)\n",
        "    sexo = input(\"Ingrese el sexo (M/F): \")\n",
        "    edad = int(input(\"Ingrese la edad: \"))\n",
        "\n",
        "    if sexo == \"M\":\n",
        "        cantidad_varones += 1\n",
        "    elif sexo == \"F\":\n",
        "        cantidad_mujeres += 1\n",
        "\n",
        "    if edad >= 18:\n",
        "        cantidad_mayores += 1\n",
        "    else:\n",
        "        cantidad_menores += 1\n",
        "\n",
        "print(\"Cantidad de mujeres:\", cantidad_mujeres)\n",
        "print(\"Cantidad de varones:\", cantidad_varones)\n",
        "print(\"Cantidad de mayores de edad:\", cantidad_mayores)\n",
        "print(\"Cantidad de menores de edad:\", cantidad_menores)"
      ]
    },
    {
      "cell_type": "markdown",
      "metadata": {
        "id": "7SLLHCSIs3RL"
      },
      "source": [
        "Leer 10 números y mostrar solamente los números positivos, y su\n",
        "sumatoria"
      ]
    },
    {
      "cell_type": "code",
      "execution_count": null,
      "metadata": {
        "colab": {
          "base_uri": "https://localhost:8080/"
        },
        "id": "tcM9Q8pZiX3R",
        "outputId": "8ffa6269-b494-4582-c867-408143527b49"
      },
      "outputs": [
        {
          "name": "stdout",
          "output_type": "stream",
          "text": [
            "Ingrese un número: 66\n",
            "66.0\n",
            "Ingrese un número: -99\n",
            "Ingrese un número: -9\n",
            "Ingrese un número: 77\n",
            "77.0\n",
            "Ingrese un número: 66\n",
            "66.0\n",
            "Ingrese un número: -99\n",
            "Ingrese un número: -88\n",
            "Ingrese un número: 6\n",
            "6.0\n",
            "Ingrese un número: 8\n",
            "8.0\n",
            "Ingrese un número: 9\n",
            "9.0\n",
            "Sumatoria de números positivos: 232.0\n"
          ]
        }
      ],
      "source": [
        "sumatoria_positivos = 0\n",
        "\n",
        "for i in range(10):\n",
        "    numero = float(input(\"Ingrese un número: \"))\n",
        "    if numero > 0:\n",
        "        print(numero)\n",
        "        sumatoria_positivos += numero\n",
        "\n",
        "print(\"Sumatoria de números positivos:\", sumatoria_positivos)\n"
      ]
    },
    {
      "cell_type": "markdown",
      "metadata": {
        "id": "K4-Sxyafs0Ct"
      },
      "source": [
        "Leer 15 números negativos y convertirlos a positivos e imprimir dichos\n",
        "números."
      ]
    },
    {
      "cell_type": "code",
      "execution_count": null,
      "metadata": {
        "colab": {
          "base_uri": "https://localhost:8080/"
        },
        "id": "Oalt1sQOkgG4",
        "outputId": "a2c0c2bb-e02a-4af8-ceec-a83dff9459ad"
      },
      "outputs": [
        {
          "name": "stdout",
          "output_type": "stream",
          "text": [
            "Ingrese un número negativo: -56\n",
            "Ingrese un número negativo: -88\n",
            "Ingrese un número negativo: -6\n",
            "Ingrese un número negativo: -8\n",
            "Ingrese un número negativo: -7\n",
            "Ingrese un número negativo: -3\n",
            "Ingrese un número negativo: -1\n",
            "Ingrese un número negativo: -32\n",
            "Ingrese un número negativo: -7\n",
            "Ingrese un número negativo: -6\n",
            "Ingrese un número negativo: -3\n",
            "Ingrese un número negativo: -6\n",
            "Ingrese un número negativo: -2\n",
            "Ingrese un número negativo: -6\n",
            "Ingrese un número negativo: -7\n",
            "Números convertidos:\n",
            "56.0\n",
            "88.0\n",
            "6.0\n",
            "8.0\n",
            "7.0\n",
            "3.0\n",
            "1.0\n",
            "32.0\n",
            "7.0\n",
            "6.0\n",
            "3.0\n",
            "6.0\n",
            "2.0\n",
            "6.0\n",
            "7.0\n"
          ]
        }
      ],
      "source": [
        "numeros_convertidos = []\n",
        "\n",
        "for i in range(15):\n",
        "    numero = float(input(\"Ingrese un número negativo: \"))\n",
        "    if numero < 0:\n",
        "        numero *= -1  # Si el número es negativo, lo multiplicamos por -1 para obtener su valor positivo\n",
        "    numeros_convertidos.append(numero)\n",
        "\n",
        "print(\"Números convertidos:\")\n",
        "for numero in numeros_convertidos:\n",
        "    print(numero)"
      ]
    }
  ],
  "metadata": {
    "colab": {
      "provenance": []
    },
    "kernelspec": {
      "display_name": "Python 3",
      "name": "python3"
    },
    "language_info": {
      "name": "python"
    }
  },
  "nbformat": 4,
  "nbformat_minor": 0
}