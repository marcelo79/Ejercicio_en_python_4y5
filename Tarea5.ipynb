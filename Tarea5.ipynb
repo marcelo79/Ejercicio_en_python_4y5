{
  "nbformat": 4,
  "nbformat_minor": 0,
  "metadata": {
    "colab": {
      "provenance": []
    },
    "kernelspec": {
      "name": "python3",
      "display_name": "Python 3"
    },
    "language_info": {
      "name": "python"
    }
  },
  "cells": [
    {
      "cell_type": "markdown",
      "source": [
        "Realice un programa que solicite dos letras ingresadas por el usuario y\n",
        "verifique si son iguales o no, mostrando un mensaje."
      ],
      "metadata": {
        "id": "IVii3u3Jo_0J"
      }
    },
    {
      "cell_type": "code",
      "execution_count": null,
      "metadata": {
        "id": "CffZOMk36IMw"
      },
      "outputs": [],
      "source": [
        "letra1 = input(\"Ingrese la primera letra: \")\n",
        "letra2 = input(\"Ingrese la segunda letra: \")\n",
        "if letra1 == letra2:\n",
        "    print(\"Las letras son iguales.\")\n",
        "else:\n",
        "    print(\"Las letras son diferentes.\")"
      ]
    },
    {
      "cell_type": "markdown",
      "source": [
        "Hacer un programa que permita decidir si dos palabras son iguales o\n",
        "diferentes. Mostrar mensaje por pantalla."
      ],
      "metadata": {
        "id": "gyuoZZQ8pWBZ"
      }
    },
    {
      "cell_type": "code",
      "source": [
        "palabra1 = input(\"Ingrese la primera palabra: \")\n",
        "palabra2 = input(\"Ingrese la segunda palabra: \")\n",
        "if palabra1 == palabra2:\n",
        "    print(\"Las palabras son iguales.\")\n",
        "else:\n",
        "    print(\"Las palabras son diferentes.\")\n"
      ],
      "metadata": {
        "id": "73y2jTCv6WBJ"
      },
      "execution_count": null,
      "outputs": []
    },
    {
      "cell_type": "markdown",
      "source": [
        "Realizar un programa que permita ingresar “f” o “m” y determinar si vota\n",
        "en mesa femenina o masculina."
      ],
      "metadata": {
        "id": "FoGGkV-Qpc4V"
      }
    },
    {
      "cell_type": "code",
      "source": [
        "genero = input(\"Ingrese su género (f/m): \")\n",
        "if genero == \"f\":\n",
        "    print(\"Usted vota en una mesa femenina.\")\n",
        "elif genero == \"m\":\n",
        "    print(\"Usted vota en una mesa masculina.\")\n",
        "else:\n",
        "    print(\"Género no válido. Por favor, ingrese 'f' para femenino o 'm' para masculino.\")"
      ],
      "metadata": {
        "id": "nQ8P9cJ28Uzf"
      },
      "execution_count": null,
      "outputs": []
    },
    {
      "cell_type": "markdown",
      "source": [
        "Realice un programa que lea dos números y diga cuál es el mayor."
      ],
      "metadata": {
        "id": "Xw4NbninpgIw"
      }
    },
    {
      "cell_type": "code",
      "source": [
        "# Solicitar al usuario dos números\n",
        "numero1 = float(input(\"Ingrese el primer número: \"))\n",
        "numero2 = float(input(\"Ingrese el segundo número: \"))\n",
        "\n",
        "# Verificar cuál número es mayor\n",
        "if numero1 > numero2:\n",
        "    print(\"El primer número es mayor.\")\n",
        "elif numero2 > numero1:\n",
        "    print(\"El segundo número es mayor.\")\n",
        "else:\n",
        "    print(\"Los números son iguales.\")"
      ],
      "metadata": {
        "id": "OSQOAoOk9WDv"
      },
      "execution_count": null,
      "outputs": []
    },
    {
      "cell_type": "markdown",
      "source": [
        "Realice un programa que cambie pesos a dólares. Mejórelo, añadiendo\n",
        "el cambio de dólares a pesos y que sea el usuario quién decida qué tipo\n",
        "de cambio quiere, si de dólares a pesos o viceversa."
      ],
      "metadata": {
        "id": "FziAlc5lpitd"
      }
    },
    {
      "cell_type": "code",
      "source": [
        "# Solicitar al usuario el tipo de cambio a realizar\n",
        "tipo_cambio = input(\"Ingrese el tipo de cambio a realizar ('p2d' para pesos a dólares, 'd2p' para dólares a pesos): \")\n",
        "\n",
        "# Verificar el tipo de cambio y realizar la conversión\n",
        "if tipo_cambio == \"p2d\":\n",
        "    pesos = float(input(\"Ingrese la cantidad de pesos a convertir a dólares: \"))\n",
        "    conversion = pesos / 500  # Suponiendo un tipo de cambio de 1 dólar = 20 pesos\n",
        "    print(f\"{pesos} pesos equivale a {conversion} dólares.\")\n",
        "elif tipo_cambio == \"d2p\":\n",
        "    dolares = float(input(\"Ingrese la cantidad de dólares a convertir a pesos: \"))\n",
        "    conversion = dolares * 1  # Suponiendo un tipo de cambio de 1 dólar = 20 pesos\n",
        "    print(f\"{dolares} dólares equivale a {conversion} pesos.\")\n",
        "else:\n",
        "    print(\"Tipo de cambio no válido. Por favor, ingrese 'p2d' para pesos a dólares o 'd2p' para dólares a pesos.\")\n"
      ],
      "metadata": {
        "id": "bg27onPI-NUS"
      },
      "execution_count": null,
      "outputs": []
    },
    {
      "cell_type": "markdown",
      "source": [
        "Realice un programa donde el usuario ingrese su edad. Si es mayor de\n",
        "16 años, muestre un mensaje diciendo “puede votar”, sino “no vota”."
      ],
      "metadata": {
        "id": "As2N2x3VploS"
      }
    },
    {
      "cell_type": "code",
      "source": [
        "# Solicitar al usuario su edad\n",
        "edad = int(input(\"Ingrese su edad: \"))\n",
        "\n",
        "# Verificar si puede votar o no\n",
        "if edad > 16:\n",
        "    print(\"Puede votar.\")\n",
        "else:\n",
        "    print(\"No vota.\")"
      ],
      "metadata": {
        "id": "8X6k2VL6A9C9"
      },
      "execution_count": null,
      "outputs": []
    },
    {
      "cell_type": "markdown",
      "source": [
        "1. Introducir los lados de un triángulo y visualizar por pantalla si dicho\n",
        "triángulo es equilátero, isósceles o escaleno."
      ],
      "metadata": {
        "id": "EGYdfxBPpoO2"
      }
    },
    {
      "cell_type": "code",
      "source": [
        "# Solicitar al usuario los lados del triángulo\n",
        "lado1 = float(input(\"Ingrese la longitud del primer lado del triángulo: \"))\n",
        "lado2 = float(input(\"Ingrese la longitud del segundo lado del triángulo: \"))\n",
        "lado3 = float(input(\"Ingrese la longitud del tercer lado del triángulo: \"))\n",
        "\n",
        "# Verificar el tipo de triángulo\n",
        "if lado1 == lado2 == lado3:\n",
        "    print(\"El triángulo es equilátero.\")\n",
        "elif lado1 == lado2 or lado1 == lado3 or lado2 == lado3:\n",
        "    print(\"El triángulo es isósceles.\")\n",
        "else:\n",
        "    print(\"El triángulo es escaleno.\")"
      ],
      "metadata": {
        "id": "P3dYQVaqCYAB"
      },
      "execution_count": null,
      "outputs": []
    },
    {
      "cell_type": "markdown",
      "source": [
        "Realice un programa que le permita al usuario simular el pago\n",
        "ingresando el importe y la forma de pago:\n",
        "• Contado (1): se aplica un descuento del 10% al importe\n",
        "• Tarjeta (2): se aplica un interés de 10%\n",
        "• Débito (3): se aplica un descuento del 5%\n",
        "Mostrar el importe, el descuento o interés y el importe total"
      ],
      "metadata": {
        "id": "ick7ISY1ppNa"
      }
    },
    {
      "cell_type": "code",
      "source": [
        "# Solicitar al usuario el importe y la forma de pago\n",
        "importe = float(input(\"Ingrese el importe a pagar: \"))\n",
        "forma_pago = int(input(\"Ingrese la forma de pago (1: Contado, 2: Tarjeta, 3: Débito): \"))\n",
        "\n",
        "# Verificar la forma de pago y calcular el descuento o interés\n",
        "descuento = 0\n",
        "interes = 0\n",
        "\n",
        "if forma_pago == 1:\n",
        "    descuento = importe * 0.10\n",
        "elif forma_pago == 2:\n",
        "    interes = importe * 0.10\n",
        "elif forma_pago == 3:\n",
        "    descuento = importe * 0.05\n",
        "\n",
        "# Calcular el importe total\n",
        "importe_total = importe - descuento + interes\n",
        "\n",
        "# Mostrar los resultados\n",
        "print(\"Importe: $\", importe)\n",
        "print(\"Descuento: $\", descuento)\n",
        "print(\"Interés: $\", interes)\n",
        "print(\"Importe total: $\", importe_total)"
      ],
      "metadata": {
        "id": "LqMM4kypFJhE"
      },
      "execution_count": null,
      "outputs": []
    },
    {
      "cell_type": "markdown",
      "source": [
        "Realice un programa que lea tres números, muestre cuál es el mayor y\n",
        "determine si es par o impar."
      ],
      "metadata": {
        "id": "WWGXiQVLprdB"
      }
    },
    {
      "cell_type": "code",
      "source": [
        "# Solicitar al usuario ingresar los tres números\n",
        "numero1 = int(input(\"Ingrese el primer número: \"))\n",
        "numero2 = int(input(\"Ingrese el segundo número: \"))\n",
        "numero3 = int(input(\"Ingrese el tercer número: \"))\n",
        "\n",
        "# Determinar cuál es el número mayor\n",
        "mayor = max(numero1, numero2, numero3)\n",
        "\n",
        "# Verificar si el número mayor es par o impar\n",
        "if mayor % 2 == 0:\n",
        "    paridad = \"par\"\n",
        "else:\n",
        "    paridad = \"impar\"\n",
        "\n",
        "# Mostrar el número mayor y su paridad\n",
        "print(\"El número mayor es:\", mayor)\n",
        "print(\"Es un número\", paridad)"
      ],
      "metadata": {
        "id": "METvUYwKFekS"
      },
      "execution_count": null,
      "outputs": []
    },
    {
      "cell_type": "markdown",
      "source": [
        "Confeccione un programa que pida un número del 1 al 7 y diga el día de\n",
        "la semana correspondiente."
      ],
      "metadata": {
        "id": "GNfcO1IOptYm"
      }
    },
    {
      "cell_type": "code",
      "source": [
        "# Solicitar al usuario un número del 1 al 7\n",
        "numero = int(input(\"Ingrese un número del 1 al 7: \"))\n",
        "\n",
        "# Verificar el número y mostrar el día de la semana correspondiente\n",
        "if numero == 1:\n",
        "    dia_semana = \"Lunes\"\n",
        "elif numero == 2:\n",
        "    dia_semana = \"Martes\"\n",
        "elif numero == 3:\n",
        "    dia_semana = \"Miércoles\"\n",
        "elif numero == 4:\n",
        "    dia_semana = \"Jueves\"\n",
        "elif numero == 5:\n",
        "    dia_semana = \"Viernes\"\n",
        "elif numero == 6:\n",
        "    dia_semana = \"Sábado\"\n",
        "elif numero == 7:\n",
        "    dia_semana = \"Domingo\"\n",
        "else:\n",
        "    dia_semana = \"Número no válido\"\n",
        "\n",
        "# Mostrar el día de la semana correspondiente\n",
        "print(\"El número\", numero, \"corresponde al día de la semana:\", dia_semana)"
      ],
      "metadata": {
        "id": "uGO-vcWnGXA5"
      },
      "execution_count": null,
      "outputs": []
    },
    {
      "cell_type": "markdown",
      "source": [
        "Realice un programa que pida un número del 1 al 12 y diga el nombre\n",
        "del mes correspondiente."
      ],
      "metadata": {
        "id": "1iT452acpu7F"
      }
    },
    {
      "cell_type": "code",
      "source": [
        "# Solicitar al usuario un número del 1 al 12\n",
        "numero = int(input(\"Ingrese un número del 1 al 12: \"))\n",
        "\n",
        "# Verificar el número y mostrar el nombre del mes correspondiente\n",
        "if numero == 1:\n",
        "    nombre_mes = \"Enero\"\n",
        "elif numero == 2:\n",
        "    nombre_mes = \"Febrero\"\n",
        "elif numero == 3:\n",
        "    nombre_mes = \"Marzo\"\n",
        "elif numero == 4:\n",
        "    nombre_mes = \"Abril\"\n",
        "elif numero == 5:\n",
        "    nombre_mes = \"Mayo\"\n",
        "elif numero == 6:\n",
        "    nombre_mes = \"Junio\"\n",
        "elif numero == 7:\n",
        "    nombre_mes = \"Julio\"\n",
        "elif numero == 8:\n",
        "    nombre_mes = \"Agosto\"\n",
        "elif numero == 9:\n",
        "    nombre_mes = \"Septiembre\"\n",
        "elif numero == 10:\n",
        "    nombre_mes = \"Octubre\"\n",
        "elif numero == 11:\n",
        "    nombre_mes = \"Noviembre\"\n",
        "elif numero == 12:\n",
        "    nombre_mes = \"Diciembre\"\n",
        "else:\n",
        "    nombre_mes = \"Número no válido\"\n",
        "\n",
        "# Mostrar el nombre del mes correspondiente\n",
        "print(\"El número\", numero, \"corresponde al mes de\", nombre_mes)"
      ],
      "metadata": {
        "colab": {
          "base_uri": "https://localhost:8080/"
        },
        "id": "v-PCK0wDHFAk",
        "outputId": "f8df0685-33d7-48a7-b566-87f0ee7725f7"
      },
      "execution_count": null,
      "outputs": [
        {
          "output_type": "stream",
          "name": "stdout",
          "text": [
            "Ingrese un número del 1 al 12: 6\n",
            "El número 6 corresponde al mes de Junio\n"
          ]
        }
      ]
    }
  ]
}